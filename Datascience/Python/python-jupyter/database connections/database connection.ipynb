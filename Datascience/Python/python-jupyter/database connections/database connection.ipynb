{
 "cells": [
  {
   "cell_type": "code",
   "execution_count": 26,
   "metadata": {},
   "outputs": [],
   "source": [
    "import pandas as pd\n",
    "'''mysql client for mysql db '''\n",
    "import MySQLdb"
   ]
  },
  {
   "cell_type": "code",
   "execution_count": 27,
   "metadata": {},
   "outputs": [
    {
     "name": "stdout",
     "output_type": "stream",
     "text": [
      "Succesfully Connected to database using MySQLdb!\n"
     ]
    },
    {
     "data": {
      "text/plain": [
       "\"'db_connection.close()\""
      ]
     },
     "execution_count": 27,
     "metadata": {},
     "output_type": "execute_result"
    }
   ],
   "source": [
    "'''mysql connection string '''\n",
    "db_connection = MySQLdb.connect(host='localhost', \n",
    "                                db='***', \n",
    "                                user='root', \n",
    "                                passwd='****') \n",
    "print(\"Succesfully Connected to database using MySQLdb!\") \n",
    "''''db_connection.close()'''"
   ]
  },
  {
   "cell_type": "code",
   "execution_count": 28,
   "metadata": {},
   "outputs": [
    {
     "data": {
      "text/html": [
       "<div>\n",
       "<style scoped>\n",
       "    .dataframe tbody tr th:only-of-type {\n",
       "        vertical-align: middle;\n",
       "    }\n",
       "\n",
       "    .dataframe tbody tr th {\n",
       "        vertical-align: top;\n",
       "    }\n",
       "\n",
       "    .dataframe thead th {\n",
       "        text-align: right;\n",
       "    }\n",
       "</style>\n",
       "<table border=\"1\" class=\"dataframe\">\n",
       "  <thead>\n",
       "    <tr style=\"text-align: right;\">\n",
       "      <th></th>\n",
       "      <th>id</th>\n",
       "      <th>date_received</th>\n",
       "      <th>resolution_code</th>\n",
       "      <th>sender_name</th>\n",
       "      <th>message</th>\n",
       "      <th>sender_number</th>\n",
       "      <th>locked_by</th>\n",
       "    </tr>\n",
       "  </thead>\n",
       "  <tbody>\n",
       "    <tr>\n",
       "      <th>0</th>\n",
       "      <td>1</td>\n",
       "      <td>2020-11-08</td>\n",
       "      <td>sms100</td>\n",
       "      <td>kasibante</td>\n",
       "      <td>test11111</td>\n",
       "      <td>256752604798</td>\n",
       "      <td>kasibante</td>\n",
       "    </tr>\n",
       "    <tr>\n",
       "      <th>1</th>\n",
       "      <td>2</td>\n",
       "      <td>2020-11-01</td>\n",
       "      <td>sms100</td>\n",
       "      <td>kasibante</td>\n",
       "      <td>eeeeee</td>\n",
       "      <td>2567526047983333</td>\n",
       "      <td>kasibante</td>\n",
       "    </tr>\n",
       "    <tr>\n",
       "      <th>2</th>\n",
       "      <td>3</td>\n",
       "      <td>2020-11-16</td>\n",
       "      <td>eeee6666</td>\n",
       "      <td>333333</td>\n",
       "      <td>3333333</td>\n",
       "      <td>256752604798333</td>\n",
       "      <td>0</td>\n",
       "    </tr>\n",
       "  </tbody>\n",
       "</table>\n",
       "</div>"
      ],
      "text/plain": [
       "   id date_received resolution_code sender_name    message     sender_number  \\\n",
       "0   1    2020-11-08          sms100   kasibante  test11111      256752604798   \n",
       "1   2    2020-11-01          sms100   kasibante     eeeeee  2567526047983333   \n",
       "2   3    2020-11-16        eeee6666      333333    3333333   256752604798333   \n",
       "\n",
       "   locked_by  \n",
       "0  kasibante  \n",
       "1  kasibante  \n",
       "2          0  "
      ]
     },
     "execution_count": 28,
     "metadata": {},
     "output_type": "execute_result"
    }
   ],
   "source": [
    "qry=pd.read_sql(\"SELECT * FROM sms_crm_incomming \",db_connection)\n",
    "qry"
   ]
  },
  {
   "cell_type": "code",
   "execution_count": 29,
   "metadata": {},
   "outputs": [
    {
     "data": {
      "text/html": [
       "<div>\n",
       "<style scoped>\n",
       "    .dataframe tbody tr th:only-of-type {\n",
       "        vertical-align: middle;\n",
       "    }\n",
       "\n",
       "    .dataframe tbody tr th {\n",
       "        vertical-align: top;\n",
       "    }\n",
       "\n",
       "    .dataframe thead th {\n",
       "        text-align: right;\n",
       "    }\n",
       "</style>\n",
       "<table border=\"1\" class=\"dataframe\">\n",
       "  <thead>\n",
       "    <tr style=\"text-align: right;\">\n",
       "      <th></th>\n",
       "      <th>id</th>\n",
       "      <th>date_received</th>\n",
       "      <th>resolution_code</th>\n",
       "      <th>sender_name</th>\n",
       "      <th>message</th>\n",
       "      <th>sender_number</th>\n",
       "      <th>locked_by</th>\n",
       "    </tr>\n",
       "  </thead>\n",
       "  <tbody>\n",
       "    <tr>\n",
       "      <th>0</th>\n",
       "      <td>1</td>\n",
       "      <td>2020-11-08</td>\n",
       "      <td>sms100</td>\n",
       "      <td>kasibante</td>\n",
       "      <td>test11111</td>\n",
       "      <td>256752604798</td>\n",
       "      <td>kasibante</td>\n",
       "    </tr>\n",
       "    <tr>\n",
       "      <th>1</th>\n",
       "      <td>2</td>\n",
       "      <td>2020-11-01</td>\n",
       "      <td>sms100</td>\n",
       "      <td>kasibante</td>\n",
       "      <td>eeeeee</td>\n",
       "      <td>2567526047983333</td>\n",
       "      <td>kasibante</td>\n",
       "    </tr>\n",
       "  </tbody>\n",
       "</table>\n",
       "</div>"
      ],
      "text/plain": [
       "   id date_received resolution_code sender_name    message     sender_number  \\\n",
       "0   1    2020-11-08          sms100   kasibante  test11111      256752604798   \n",
       "1   2    2020-11-01          sms100   kasibante     eeeeee  2567526047983333   \n",
       "\n",
       "   locked_by  \n",
       "0  kasibante  \n",
       "1  kasibante  "
      ]
     },
     "execution_count": 29,
     "metadata": {},
     "output_type": "execute_result"
    }
   ],
   "source": [
    "qry2=pd.read_sql(\"SELECT * FROM sms_crm_incomming where locked_by like 'k%' \",db_connection)\n",
    "qry2"
   ]
  },
  {
   "cell_type": "code",
   "execution_count": 30,
   "metadata": {},
   "outputs": [],
   "source": [
    "#close db connection after fetching all the neccessary data from database using sql\n",
    "db_connection.close()"
   ]
  },
  {
   "cell_type": "markdown",
   "metadata": {},
   "source": [
    "# Convert query results to pandas data frames"
   ]
  },
  {
   "cell_type": "code",
   "execution_count": 31,
   "metadata": {},
   "outputs": [
    {
     "data": {
      "text/html": [
       "<div>\n",
       "<style scoped>\n",
       "    .dataframe tbody tr th:only-of-type {\n",
       "        vertical-align: middle;\n",
       "    }\n",
       "\n",
       "    .dataframe tbody tr th {\n",
       "        vertical-align: top;\n",
       "    }\n",
       "\n",
       "    .dataframe thead th {\n",
       "        text-align: right;\n",
       "    }\n",
       "</style>\n",
       "<table border=\"1\" class=\"dataframe\">\n",
       "  <thead>\n",
       "    <tr style=\"text-align: right;\">\n",
       "      <th></th>\n",
       "      <th>id</th>\n",
       "      <th>date_received</th>\n",
       "      <th>resolution_code</th>\n",
       "      <th>sender_name</th>\n",
       "      <th>message</th>\n",
       "      <th>sender_number</th>\n",
       "      <th>locked_by</th>\n",
       "    </tr>\n",
       "  </thead>\n",
       "  <tbody>\n",
       "    <tr>\n",
       "      <th>0</th>\n",
       "      <td>1</td>\n",
       "      <td>2020-11-08</td>\n",
       "      <td>sms100</td>\n",
       "      <td>kasibante</td>\n",
       "      <td>test11111</td>\n",
       "      <td>256752604798</td>\n",
       "      <td>kasibante</td>\n",
       "    </tr>\n",
       "    <tr>\n",
       "      <th>1</th>\n",
       "      <td>2</td>\n",
       "      <td>2020-11-01</td>\n",
       "      <td>sms100</td>\n",
       "      <td>kasibante</td>\n",
       "      <td>eeeeee</td>\n",
       "      <td>2567526047983333</td>\n",
       "      <td>kasibante</td>\n",
       "    </tr>\n",
       "    <tr>\n",
       "      <th>2</th>\n",
       "      <td>3</td>\n",
       "      <td>2020-11-16</td>\n",
       "      <td>eeee6666</td>\n",
       "      <td>333333</td>\n",
       "      <td>3333333</td>\n",
       "      <td>256752604798333</td>\n",
       "      <td>0</td>\n",
       "    </tr>\n",
       "  </tbody>\n",
       "</table>\n",
       "</div>"
      ],
      "text/plain": [
       "   id date_received resolution_code sender_name    message     sender_number  \\\n",
       "0   1    2020-11-08          sms100   kasibante  test11111      256752604798   \n",
       "1   2    2020-11-01          sms100   kasibante     eeeeee  2567526047983333   \n",
       "2   3    2020-11-16        eeee6666      333333    3333333   256752604798333   \n",
       "\n",
       "   locked_by  \n",
       "0  kasibante  \n",
       "1  kasibante  \n",
       "2          0  "
      ]
     },
     "execution_count": 31,
     "metadata": {},
     "output_type": "execute_result"
    }
   ],
   "source": [
    "df=pd.DataFrame(qry)\n",
    "df"
   ]
  },
  {
   "cell_type": "code",
   "execution_count": 32,
   "metadata": {},
   "outputs": [
    {
     "data": {
      "text/plain": [
       "0    False\n",
       "1     True\n",
       "2    False\n",
       "dtype: bool"
      ]
     },
     "execution_count": 32,
     "metadata": {},
     "output_type": "execute_result"
    }
   ],
   "source": [
    "duplicated_data= df.duplicated(['resolution_code'])\n",
    "\n",
    "duplicated_data"
   ]
  },
  {
   "cell_type": "code",
   "execution_count": 33,
   "metadata": {},
   "outputs": [
    {
     "data": {
      "text/html": [
       "<div>\n",
       "<style scoped>\n",
       "    .dataframe tbody tr th:only-of-type {\n",
       "        vertical-align: middle;\n",
       "    }\n",
       "\n",
       "    .dataframe tbody tr th {\n",
       "        vertical-align: top;\n",
       "    }\n",
       "\n",
       "    .dataframe thead th {\n",
       "        text-align: right;\n",
       "    }\n",
       "</style>\n",
       "<table border=\"1\" class=\"dataframe\">\n",
       "  <thead>\n",
       "    <tr style=\"text-align: right;\">\n",
       "      <th></th>\n",
       "      <th>id</th>\n",
       "      <th>date_received</th>\n",
       "      <th>resolution_code</th>\n",
       "      <th>sender_name</th>\n",
       "      <th>message</th>\n",
       "      <th>sender_number</th>\n",
       "      <th>locked_by</th>\n",
       "    </tr>\n",
       "  </thead>\n",
       "  <tbody>\n",
       "    <tr>\n",
       "      <th>0</th>\n",
       "      <td>1</td>\n",
       "      <td>2020-11-08</td>\n",
       "      <td>sms100</td>\n",
       "      <td>kasibante</td>\n",
       "      <td>test11111</td>\n",
       "      <td>256752604798</td>\n",
       "      <td>kasibante</td>\n",
       "    </tr>\n",
       "    <tr>\n",
       "      <th>2</th>\n",
       "      <td>3</td>\n",
       "      <td>2020-11-16</td>\n",
       "      <td>eeee6666</td>\n",
       "      <td>333333</td>\n",
       "      <td>3333333</td>\n",
       "      <td>256752604798333</td>\n",
       "      <td>0</td>\n",
       "    </tr>\n",
       "  </tbody>\n",
       "</table>\n",
       "</div>"
      ],
      "text/plain": [
       "   id date_received resolution_code sender_name    message    sender_number  \\\n",
       "0   1    2020-11-08          sms100   kasibante  test11111     256752604798   \n",
       "2   3    2020-11-16        eeee6666      333333    3333333  256752604798333   \n",
       "\n",
       "   locked_by  \n",
       "0  kasibante  \n",
       "2          0  "
      ]
     },
     "execution_count": 33,
     "metadata": {},
     "output_type": "execute_result"
    }
   ],
   "source": [
    "#remove duplicates on the resolution_code column\n",
    "remove_duplicate_resolution_code= df.drop_duplicates(['resolution_code'])\n",
    "remove_duplicate_resolution_code"
   ]
  },
  {
   "cell_type": "code",
   "execution_count": null,
   "metadata": {},
   "outputs": [],
   "source": []
  },
  {
   "cell_type": "code",
   "execution_count": null,
   "metadata": {},
   "outputs": [],
   "source": []
  }
 ],
 "metadata": {
  "kernelspec": {
   "display_name": "Python 3",
   "language": "python",
   "name": "python3"
  },
  "language_info": {
   "codemirror_mode": {
    "name": "ipython",
    "version": 3
   },
   "file_extension": ".py",
   "mimetype": "text/x-python",
   "name": "python",
   "nbconvert_exporter": "python",
   "pygments_lexer": "ipython3",
   "version": "3.7.4"
  }
 },
 "nbformat": 4,
 "nbformat_minor": 2
}
